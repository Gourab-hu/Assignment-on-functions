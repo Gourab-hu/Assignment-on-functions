{
 "cells": [
  {
   "cell_type": "code",
   "execution_count": 24,
   "id": "e6c70ac9-6544-46c1-8ac3-2487e40a65c2",
   "metadata": {},
   "outputs": [],
   "source": [
    "                                   #Practical questions\n",
    "#1.Write a Python function that takes a list of numbers as input and returns the sum of all even numbers in the list.\n",
    "def sum_even_numbers(numbers):\n",
    "    sum = 0\n",
    "    for num in numbers:\n",
    "        if num % 2 == 0:\n",
    "            sum += num\n",
    "    return sum\n",
    "            "
   ]
  },
  {
   "cell_type": "code",
   "execution_count": 26,
   "id": "408b52a7-b562-453c-baca-7ba232b4baea",
   "metadata": {},
   "outputs": [
    {
     "name": "stdout",
     "output_type": "stream",
     "text": [
      "12\n"
     ]
    }
   ],
   "source": [
    "numbers = [1, 2, 3, 4, 5, 6]\n",
    "print(sum_even_numbers(numbers))"
   ]
  },
  {
   "cell_type": "code",
   "execution_count": 52,
   "id": "4eb52081-6a9b-459b-910a-2194d357e88f",
   "metadata": {},
   "outputs": [],
   "source": [
    "#2.Create a Python function that accepts a string and returns the reverse of that string.\n",
    "def reverse_string(s):\n",
    "    return s[::-1]\n",
    "    "
   ]
  },
  {
   "cell_type": "code",
   "execution_count": 61,
   "id": "f2e0c80f-ac79-4dd5-8173-8f97eb73e12d",
   "metadata": {},
   "outputs": [
    {
     "name": "stdout",
     "output_type": "stream",
     "text": [
      "olleH\n"
     ]
    }
   ],
   "source": [
    "s = \"Hello\"\n",
    "print(reverse_string(s))"
   ]
  },
  {
   "cell_type": "code",
   "execution_count": 73,
   "id": "8628948b-805c-44e0-a97e-9a7be66acbb4",
   "metadata": {},
   "outputs": [],
   "source": [
    "#3. Implement a Python function that takes a list of integers and returns a new list containing the squares of each number\n",
    "def list_int(numbers):\n",
    "    return [num**2 for num in numbers]\n",
    "\n",
    "    "
   ]
  },
  {
   "cell_type": "code",
   "execution_count": 75,
   "id": "fdf40a86-6674-4855-b116-bfd6e1ce0868",
   "metadata": {},
   "outputs": [
    {
     "name": "stdout",
     "output_type": "stream",
     "text": [
      "[1, 4, 9, 16, 25, 36]\n"
     ]
    }
   ],
   "source": [
    "numbers =[1, 2, 3, 4, 5, 6]\n",
    "print(list_int(numbers))"
   ]
  },
  {
   "cell_type": "code",
   "execution_count": 157,
   "id": "c24443ab-f0e4-46d3-87f2-699f623e9a15",
   "metadata": {},
   "outputs": [],
   "source": [
    "#4.Write a Python function that checks if a given number is prime or not from 1 to 200\n",
    "def is_prime(n):\n",
    "    if n<=1:\n",
    "        return False\n",
    "    for i in range(2, int(n**0.5) + 1):\n",
    "        if n % i == 0:\n",
    "            return False\n",
    "    return True"
   ]
  },
  {
   "cell_type": "code",
   "execution_count": 159,
   "id": "8bc51b0c-dd44-4047-9a77-0bd3bbca02d0",
   "metadata": {},
   "outputs": [
    {
     "name": "stdout",
     "output_type": "stream",
     "text": [
      "2 is a prime number\n",
      "3 is a prime number\n",
      "5 is a prime number\n",
      "7 is a prime number\n",
      "11 is a prime number\n",
      "13 is a prime number\n",
      "17 is a prime number\n",
      "19 is a prime number\n",
      "23 is a prime number\n",
      "29 is a prime number\n",
      "31 is a prime number\n",
      "37 is a prime number\n",
      "41 is a prime number\n",
      "43 is a prime number\n",
      "47 is a prime number\n",
      "53 is a prime number\n",
      "59 is a prime number\n",
      "61 is a prime number\n",
      "67 is a prime number\n",
      "71 is a prime number\n",
      "73 is a prime number\n",
      "79 is a prime number\n",
      "83 is a prime number\n",
      "89 is a prime number\n",
      "97 is a prime number\n",
      "101 is a prime number\n",
      "103 is a prime number\n",
      "107 is a prime number\n",
      "109 is a prime number\n",
      "113 is a prime number\n",
      "127 is a prime number\n",
      "131 is a prime number\n",
      "137 is a prime number\n",
      "139 is a prime number\n",
      "149 is a prime number\n",
      "151 is a prime number\n",
      "157 is a prime number\n",
      "163 is a prime number\n",
      "167 is a prime number\n",
      "173 is a prime number\n",
      "179 is a prime number\n",
      "181 is a prime number\n",
      "191 is a prime number\n",
      "193 is a prime number\n",
      "197 is a prime number\n",
      "199 is a prime number\n"
     ]
    }
   ],
   "source": [
    "for num in range(1, 201):\n",
    "    if is_prime(num):\n",
    "        print(f\"{num} is a prime number\")"
   ]
  },
  {
   "cell_type": "code",
   "execution_count": 188,
   "id": "5c494586-15cd-428b-90cc-57416d3cc1bc",
   "metadata": {},
   "outputs": [
    {
     "data": {
      "text/plain": [
       "[0, 1, 1, 2, 3, 5, 8, 13, 21, 34]"
      ]
     },
     "execution_count": 188,
     "metadata": {},
     "output_type": "execute_result"
    }
   ],
   "source": [
    "#5. Create an iterator class in Python that generates the Fibonacci sequence up to a specified number of terms\n",
    "fib = lambda n: n if n<= 1 else fib(n-1) + fib(n-2)\n",
    "[fib(i) for i in range(10)]"
   ]
  },
  {
   "cell_type": "code",
   "execution_count": 268,
   "id": "85e5c210-bf5a-42b5-9a2f-e2b87fd03c76",
   "metadata": {},
   "outputs": [],
   "source": [
    "#6.Write a generator function in Python that yields the powers of 2 up to a given exponent.\n",
    "def square_number_generator(n):\n",
    "    for i in range(n):\n",
    "        yield i**2"
   ]
  },
  {
   "cell_type": "code",
   "execution_count": 284,
   "id": "f1526184-1fa4-4e9a-bc8d-3d3fb8e9ecaa",
   "metadata": {},
   "outputs": [],
   "source": [
    "gen = square_number_generator(10)"
   ]
  },
  {
   "cell_type": "code",
   "execution_count": 286,
   "id": "fedf2b08-8a00-4185-8dd8-0d53669f7472",
   "metadata": {},
   "outputs": [
    {
     "data": {
      "text/plain": [
       "0"
      ]
     },
     "execution_count": 286,
     "metadata": {},
     "output_type": "execute_result"
    }
   ],
   "source": [
    "next(gen)"
   ]
  },
  {
   "cell_type": "code",
   "execution_count": 288,
   "id": "0d940f8d-6f92-4638-8d0c-65ff4478a805",
   "metadata": {},
   "outputs": [
    {
     "data": {
      "text/plain": [
       "1"
      ]
     },
     "execution_count": 288,
     "metadata": {},
     "output_type": "execute_result"
    }
   ],
   "source": [
    "next(gen)"
   ]
  },
  {
   "cell_type": "code",
   "execution_count": 290,
   "id": "c7b23ed2-d491-45ef-929b-e1c8829853b9",
   "metadata": {},
   "outputs": [
    {
     "data": {
      "text/plain": [
       "4"
      ]
     },
     "execution_count": 290,
     "metadata": {},
     "output_type": "execute_result"
    }
   ],
   "source": [
    "next(gen)"
   ]
  },
  {
   "cell_type": "code",
   "execution_count": 294,
   "id": "2c2491ec-3c52-4da3-9858-9d1d5d21680c",
   "metadata": {},
   "outputs": [
    {
     "data": {
      "text/plain": [
       "9"
      ]
     },
     "execution_count": 294,
     "metadata": {},
     "output_type": "execute_result"
    }
   ],
   "source": [
    "next(gen)"
   ]
  },
  {
   "cell_type": "code",
   "execution_count": 534,
   "id": "59615723-f8ea-427d-b656-5aec01a70ccc",
   "metadata": {},
   "outputs": [],
   "source": [
    "#7. Implement a generator function that reads a file line by line and yields each line as a string.\n",
    "def read_file_line_by_line(file_path):\n",
    "    with open(file_path, 'r') as file:\n",
    "        for line in file:\n",
    "            yield line.rstrip('\\n')  "
   ]
  },
  {
   "cell_type": "code",
   "execution_count": 249,
   "id": "cbbcd56c-a664-4236-8c7e-89ba51d0e89d",
   "metadata": {},
   "outputs": [
    {
     "data": {
      "text/plain": [
       "[(1, 3), (6, 4), (5, 7), (2, 8)]"
      ]
     },
     "execution_count": 249,
     "metadata": {},
     "output_type": "execute_result"
    }
   ],
   "source": [
    "#8. Use a lambda function in Python to sort a list of tuples based on the second element of each tuple.\n",
    "l = [(1, 3), (5, 7), (6, 4), (2, 8)]\n",
    "sorted(l, key = lambda x: x[1])"
   ]
  },
  {
   "cell_type": "code",
   "execution_count": null,
   "id": "2174af62-db5b-4538-9988-ba9588699d38",
   "metadata": {},
   "outputs": [],
   "source": []
  },
  {
   "cell_type": "code",
   "execution_count": null,
   "id": "1dc9bf40-7505-4467-8537-d21768814661",
   "metadata": {},
   "outputs": [],
   "source": []
  },
  {
   "cell_type": "code",
   "execution_count": 214,
   "id": "18aa0fa7-a9a4-4eea-9b09-cf5222fb77a6",
   "metadata": {},
   "outputs": [
    {
     "data": {
      "text/plain": [
       "[50.0, 68.0, 86.0, 104.0, 122.0]"
      ]
     },
     "execution_count": 214,
     "metadata": {},
     "output_type": "execute_result"
    }
   ],
   "source": [
    "#9.Write a Python program that uses `map()` to convert a list of temperatures from Celsius to Fahrenheit.\n",
    "celsius =[10, 20, 30, 40, 50]\n",
    "list(map(lambda c: c*(9/5)+32, celsius))"
   ]
  },
  {
   "cell_type": "code",
   "execution_count": 394,
   "id": "7a6f74e1-a1ba-462a-9dda-bbb58b7d790c",
   "metadata": {},
   "outputs": [],
   "source": [
    "#10. Create a Python program that uses `filter()` to remove all the vowels from a given string\n",
    "def remove_vowels(string):\n",
    "    vowels = 'aeiouAEIOU'\n",
    "    return ''.join(filter(lambda x: x not in vowels, string))\n",
    "\n"
   ]
  },
  {
   "cell_type": "code",
   "execution_count": 396,
   "id": "44b25fdb-4edd-4944-9b79-b87732b55e97",
   "metadata": {},
   "outputs": [
    {
     "name": "stdout",
     "output_type": "stream",
     "text": [
      "Original string: Hello World\n",
      "String without vowels: Hll Wrld\n"
     ]
    }
   ],
   "source": [
    "string = \"Hello World\"\n",
    "print(\"Original string:\", string)\n",
    "print(\"String without vowels:\", remove_vowels(string))\n",
    "\n"
   ]
  },
  {
   "cell_type": "code",
   "execution_count": 480,
   "id": "1b7322a9-5853-4363-a374-853704507b44",
   "metadata": {},
   "outputs": [],
   "source": [
    "#11.\n",
    "'''Imagine an accounting routine used in a book shop. It works on a list with sublists, which look like this:\n",
    " Write a Python program, which returns a list with 2-tuples. Each tuple consists of the order number and the \n",
    "product of the price per item and the quantity. The product should be increased by 10,- € if the value of the \n",
    "order is smaller than 100,00 €.\n",
    " Write a Python program using lambda and map\n",
    " '''\n",
    "orders = [\n",
    "    [34587, \"Learning python mark lutz\", 4, 40.95],\n",
    "    [98762,\"Programming python mark lutz\",5,56.80],\n",
    "    [77226,\"Head first python paul barry\",3,32.95],\n",
    "    [88112,\"Einfuhrung in python3 bernd klein\",3,24.99]\n",
    "]\n",
    "result = list(map(lambda x: (x[0], round(x[2] * x[3] + (10 if x[2] * x[3] < 100 else 0), 2)), orders))\n"
   ]
  },
  {
   "cell_type": "code",
   "execution_count": 469,
   "id": "08ee3167-8dc8-408f-914a-4f2b319651b2",
   "metadata": {},
   "outputs": [
    {
     "name": "stdout",
     "output_type": "stream",
     "text": [
      "[(34587, 163.8), (98762, 284.0), (77226, 108.85), (88112, 84.97)]\n"
     ]
    }
   ],
   "source": [
    "print(result)\n"
   ]
  },
  {
   "cell_type": "code",
   "execution_count": 482,
   "id": "53da9c18-6dc4-4a83-8fc9-680c43f32fe3",
   "metadata": {},
   "outputs": [
    {
     "data": {
      "text/plain": [
       "'\\nA function is a block of code which is used to execute a specific task at a time.\\nIt is used using a def keyword.\\nIt can be used independently.\\nWhereas a method is a function that belongs to an object.\\nIt is defined inside a class.\\nIt can be called on instances (objects) of that class.\\n'"
      ]
     },
     "execution_count": 482,
     "metadata": {},
     "output_type": "execute_result"
    }
   ],
   "source": [
    "                                                       #Theoritical questions\n",
    "#1.What is the difference between a function and a method in Python?\n",
    "'''\n",
    "A function is a block of code which is used to execute a specific task at a time.\n",
    "It is used using a def keyword.\n",
    "It can be used independently.\n",
    "Whereas a method is a function that belongs to an object.\n",
    "It is defined inside a class.\n",
    "It can be called on instances (objects) of that class.\n",
    "'''"
   ]
  },
  {
   "cell_type": "code",
   "execution_count": 486,
   "id": "01533682-2418-4177-a9b3-8e45a717aacf",
   "metadata": {},
   "outputs": [
    {
     "data": {
      "text/plain": [
       "'\\nParameters are variable names listed in python\\nThey act as placeholders the value will recieve\\nWhereas Arguments are the actual value while calling it.\\nThey are the correspondent value of parameters\\n'"
      ]
     },
     "execution_count": 486,
     "metadata": {},
     "output_type": "execute_result"
    }
   ],
   "source": [
    "#2. Explain the concept of function arguments and parameters in Python.\n",
    "'''\n",
    "Parameters are variable names listed in python\n",
    "They act as placeholders the value will recieve\n",
    "Whereas Arguments are the actual value while calling it.\n",
    "They are the correspondent value of parameters\n",
    "'''"
   ]
  },
  {
   "cell_type": "code",
   "execution_count": 489,
   "id": "75722cb1-0f39-4eb5-b3cf-5da09b76c6d6",
   "metadata": {},
   "outputs": [
    {
     "data": {
      "text/plain": [
       "'\\nA. Regular Function\\n\\ndef greet(name):\\n    print(f\"Hello, {name}!\")\\nB. Function with Default Parameters\\n\\ndef greet(name=\"Guest\"):\\n    print(f\"Hello, {name}!\")\\nC. Function with Variable-Length Arguments\\n\\ndef add_all(*numbers):  \\n    return sum(numbers)\\n\\ndef show_details(**info):  \\n    print(info)\\nD. Lambda (Anonymous) Function\\n\\nsquare = lambda x: x * x\\nE. Function Inside a Function (Nested)\\n\\ndef outer():\\n    def inner():\\n        print(\"Inner function\")\\n    inner()\\nF. Method in a Class\\n\\nclass Greeter:\\n    def greet(self, name):\\n        print(f\"Hello, {name}!\")\\n'"
      ]
     },
     "execution_count": 489,
     "metadata": {},
     "output_type": "execute_result"
    }
   ],
   "source": [
    "#3.What are the different ways to define and call a function in Python\n",
    "'''\n",
    "A. Regular Function\n",
    "\n",
    "def greet(name):\n",
    "    print(f\"Hello, {name}!\")\n",
    "B. Function with Default Parameters\n",
    "\n",
    "def greet(name=\"Guest\"):\n",
    "    print(f\"Hello, {name}!\")\n",
    "C. Function with Variable-Length Arguments\n",
    "\n",
    "def add_all(*numbers):  \n",
    "    return sum(numbers)\n",
    "\n",
    "def show_details(**info):  \n",
    "    print(info)\n",
    "D. Lambda (Anonymous) Function\n",
    "\n",
    "square = lambda x: x * x\n",
    "E. Function Inside a Function (Nested)\n",
    "\n",
    "def outer():\n",
    "    def inner():\n",
    "        print(\"Inner function\")\n",
    "    inner()\n",
    "F. Method in a Class\n",
    "\n",
    "class Greeter:\n",
    "    def greet(self, name):\n",
    "        print(f\"Hello, {name}!\")\n",
    "'''"
   ]
  },
  {
   "cell_type": "code",
   "execution_count": 493,
   "id": "943f9b1e-9f32-4e89-8be1-cadeef5b66c6",
   "metadata": {},
   "outputs": [
    {
     "data": {
      "text/plain": [
       "'\\nA return function is used in place of print to return the function satements and to give the output\\nFor ex- def func_name(numbers):\\n        return(num**2 for num in numbers)\\n'"
      ]
     },
     "execution_count": 493,
     "metadata": {},
     "output_type": "execute_result"
    }
   ],
   "source": [
    "#4. What is the purpose of the `return` statement in a Python function?\n",
    "'''\n",
    "A return function is used in place of print to return the function satements and to give the output\n",
    "For ex- def func_name(numbers):\n",
    "        return(num**2 for num in numbers)\n",
    "'''"
   ]
  },
  {
   "cell_type": "code",
   "execution_count": 495,
   "id": "0a1f3111-49a4-494f-8008-68e47e63a519",
   "metadata": {},
   "outputs": [
    {
     "data": {
      "text/plain": [
       "'\\nAn iterable is any object in python  that is capable of returning its element once at a time.\\nFor ex- lists = [1, 2, 3, 4, 5, 6]\\n        tuples = (\"gourav\", True, 1, 2)\\nAn iterator is an object that represents a stream of data. It is produced by calling iter() on an iterable.\\n'"
      ]
     },
     "execution_count": 495,
     "metadata": {},
     "output_type": "execute_result"
    }
   ],
   "source": [
    "#5. What are iterators in Python and how do they differ from iterables?\n",
    "'''\n",
    "An iterable is any object in python  that is capable of returning its element once at a time.\n",
    "For ex- lists = [1, 2, 3, 4, 5, 6]\n",
    "        tuples = (\"gourav\", True, 1, 2)\n",
    "An iterator is an object that represents a stream of data. It is produced by calling iter() on an iterable.\n",
    "'''"
   ]
  },
  {
   "cell_type": "code",
   "execution_count": 497,
   "id": "b777dbec-5957-4456-9921-2365f18865e4",
   "metadata": {},
   "outputs": [
    {
     "data": {
      "text/plain": [
       "'\\nA generator is a function that uses the yield keyword instead of return. Each time yield is called, the function’s state is saved, so it can resume \\nfrom where it left off.\\nThis make generators:\\nMore memory efficient. \\ncan stream infinite data sequences.\\n'"
      ]
     },
     "execution_count": 497,
     "metadata": {},
     "output_type": "execute_result"
    }
   ],
   "source": [
    "#6.Explain the concept of generators in Python and how they are defined?\n",
    "'''\n",
    "A generator is a function that uses the yield keyword instead of return. Each time yield is called, the function’s state is saved, so it can resume \n",
    "from where it left off.\n",
    "This make generators:\n",
    "More memory efficient. \n",
    "can stream infinite data sequences.\n",
    "'''"
   ]
  },
  {
   "cell_type": "code",
   "execution_count": 499,
   "id": "7836d9c4-4571-4fd8-b631-a6d58919f102",
   "metadata": {},
   "outputs": [
    {
     "data": {
      "text/plain": [
       "'\\nGenerators uses yield function to generate functions and they are useful because they can iterate a sequence line by line.\\nIt is more useful when we want to iterate or process large data sets.\\n'"
      ]
     },
     "execution_count": 499,
     "metadata": {},
     "output_type": "execute_result"
    }
   ],
   "source": [
    "#7. What are the advantages of using generators over regular functions?\n",
    "'''\n",
    "Generators uses yield function to generate functions and they are useful because they can iterate a sequence line by line.\n",
    "It is more useful when we want to iterate or process large data sets.\n",
    "'''\n"
   ]
  },
  {
   "cell_type": "code",
   "execution_count": 501,
   "id": "4510b4a3-276b-4eb6-bd4e-3af8fd2c9d6b",
   "metadata": {},
   "outputs": [
    {
     "data": {
      "text/plain": [
       "'\\nA lambda function is used when we want to run a code with as less lines we can and it makes it easier to read.\\nIt has some built in functions such as map, reduce, filter, sorted.\\nFor ex-  list(map(lambda x: x*2, l))\\n'"
      ]
     },
     "execution_count": 501,
     "metadata": {},
     "output_type": "execute_result"
    }
   ],
   "source": [
    "#8. What is a lambda function in Python and when is it typically used?\n",
    "'''\n",
    "A lambda function is used when we want to run a code with as less lines we can and it makes it easier to read.\n",
    "It has some built in functions such as map, reduce, filter, sorted.\n",
    "For ex-  list(map(lambda x: x*2, l))\n",
    "'''"
   ]
  },
  {
   "cell_type": "code",
   "execution_count": 503,
   "id": "cdb00f6f-ff49-4fd9-9eba-f59033eaf7ad",
   "metadata": {},
   "outputs": [
    {
     "data": {
      "text/plain": [
       "'\\nThe purpose of map function is to transform or process each item in a collection without using a loop.\\nFor ex- \\nmap(function, iterable)\\nfunction: A function that processes each item.\\n\\niterable: A sequence (list, tuple, etc.) of items.\\n'"
      ]
     },
     "execution_count": 503,
     "metadata": {},
     "output_type": "execute_result"
    }
   ],
   "source": [
    "#9. Explain the purpose and usage of the `map()` function in Python?\n",
    "'''\n",
    "The purpose of map function is to transform or process each item in a collection without using a loop.\n",
    "For ex- \n",
    "map(function, iterable)\n",
    "function: A function that processes each item.\n",
    "\n",
    "iterable: A sequence (list, tuple, etc.) of items.\n",
    "'''"
   ]
  },
  {
   "cell_type": "code",
   "execution_count": 505,
   "id": "c903ec8f-644b-458a-9aea-108c431b8062",
   "metadata": {},
   "outputs": [
    {
     "data": {
      "text/plain": [
       "'\\na.map() – Transform each item\\nPurpose: Applies a function to each element in an iterable.\\n\\nReturns: A new iterable with the same number of items.\\n\\nb.filter() – Keep items that meet a condition\\nPurpose: Filters elements from an iterable based on a condition.\\n\\nReturns: A new iterable with only items that return True.\\n Example:\\nnums = [1, 2, 3, 4]\\nevens = list(filter(lambda x: x % 2 == 0, nums))\\n\\nc.reduce() – Combine all items into one\\nPurpose: Applies a function cumulatively to the items in an iterable, reducing it to a single value.\\n\\nRequires: functools.reduce() (not built-in by default).\\n\\nReturns: One final result.\\n\\nExample\\nfrom functools import reduce\\n\\nnums = [1, 2, 3, 4]\\ntotal = reduce(lambda x, y: x + y, nums)\\n'"
      ]
     },
     "execution_count": 505,
     "metadata": {},
     "output_type": "execute_result"
    }
   ],
   "source": [
    "#10.What is the difference between map(), reduce(), and filter() functions in Python?\n",
    "'''\n",
    "a.map() – Transform each item\n",
    "Purpose: Applies a function to each element in an iterable.\n",
    "\n",
    "Returns: A new iterable with the same number of items.\n",
    "\n",
    "b.filter() – Keep items that meet a condition\n",
    "Purpose: Filters elements from an iterable based on a condition.\n",
    "\n",
    "Returns: A new iterable with only items that return True.\n",
    " Example:\n",
    "nums = [1, 2, 3, 4]\n",
    "evens = list(filter(lambda x: x % 2 == 0, nums))\n",
    "\n",
    "c.reduce() – Combine all items into one\n",
    "Purpose: Applies a function cumulatively to the items in an iterable, reducing it to a single value.\n",
    "\n",
    "Requires: functools.reduce() (not built-in by default).\n",
    "\n",
    "Returns: One final result.\n",
    "\n",
    "Example\n",
    "from functools import reduce\n",
    "\n",
    "nums = [1, 2, 3, 4]\n",
    "total = reduce(lambda x, y: x + y, nums)\n",
    "'''"
   ]
  },
  {
   "cell_type": "code",
   "execution_count": 507,
   "id": "09180a65-4c43-4ebc-a5f0-148f76decea7",
   "metadata": {},
   "outputs": [
    {
     "data": {
      "text/plain": [
       "'\\nanswer in doc\\n'"
      ]
     },
     "execution_count": 507,
     "metadata": {},
     "output_type": "execute_result"
    }
   ],
   "source": [
    "#11.Using pen & Paper write the internal mechanism for sum operation using  reduce function on this given list:[47, 11, 42, 13]\n",
    "'''\n",
    "answer in doc\n",
    "'''"
   ]
  },
  {
   "cell_type": "code",
   "execution_count": null,
   "id": "c4ab49ed-efd6-4139-9ac5-f51ea12796e9",
   "metadata": {},
   "outputs": [],
   "source": []
  }
 ],
 "metadata": {
  "kernelspec": {
   "display_name": "Python [conda env:base] *",
   "language": "python",
   "name": "conda-base-py"
  },
  "language_info": {
   "codemirror_mode": {
    "name": "ipython",
    "version": 3
   },
   "file_extension": ".py",
   "mimetype": "text/x-python",
   "name": "python",
   "nbconvert_exporter": "python",
   "pygments_lexer": "ipython3",
   "version": "3.12.7"
  }
 },
 "nbformat": 4,
 "nbformat_minor": 5
}
